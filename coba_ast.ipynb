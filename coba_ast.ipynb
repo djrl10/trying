{
  "nbformat": 4,
  "nbformat_minor": 0,
  "metadata": {
    "kernelspec": {
      "display_name": "Python 3",
      "language": "python",
      "name": "python3"
    },
    "language_info": {
      "codemirror_mode": {
        "name": "ipython",
        "version": 3
      },
      "file_extension": ".py",
      "mimetype": "text/x-python",
      "name": "python",
      "nbconvert_exporter": "python",
      "pygments_lexer": "ipython3",
      "version": "3.8.2"
    },
    "colab": {
      "name": "coba ast.ipynb",
      "provenance": [],
      "collapsed_sections": [],
      "include_colab_link": true
    }
  },
  "cells": [
    {
      "cell_type": "markdown",
      "metadata": {
        "id": "view-in-github",
        "colab_type": "text"
      },
      "source": [
        "<a href=\"https://colab.research.google.com/github/djrl10/trying/blob/master/coba_ast.ipynb\" target=\"_parent\"><img src=\"https://colab.research.google.com/assets/colab-badge.svg\" alt=\"Open In Colab\"/></a>"
      ]
    },
    {
      "cell_type": "markdown",
      "metadata": {
        "id": "GKb7F-_vcuJY"
      },
      "source": [
        "Source:\n",
        "https://github.com/c2nes/javalang\n",
        "Software Defect Prediction via ConvolutionalNeural Network\n",
        "Seml: A Semantic LSTM Model for Software Defect Prediction\n",
        "Automatically Learning Semantic Features for Defect Prediction\n",
        "https://github.com/kevinqiu1990/TCNN\n",
        "Transfer Convolutional Neural Network for Cross-Project Defect Prediction "
      ]
    },
    {
      "cell_type": "code",
      "metadata": {
        "id": "QNrh0NzlcuJb",
        "colab": {
          "base_uri": "https://localhost:8080/",
          "height": 128
        },
        "outputId": "994fc914-e06a-42f9-e529-87ffa0d9dadc"
      },
      "source": [
        "!pip3 install javalang\n",
        "import tensorflow as tf\n",
        "import javalang\n",
        "import javalang.tree as jlt\n",
        "from os import walk\n",
        "import pandas as pd\n",
        "from io import StringIO"
      ],
      "execution_count": null,
      "outputs": [
        {
          "output_type": "stream",
          "text": [
            "Collecting javalang\n",
            "  Downloading https://files.pythonhosted.org/packages/cb/e0/12344443d66b9a84844171be90112892a371da6db09866741774b8bc0a2f/javalang-0.13.0-py3-none-any.whl\n",
            "Requirement already satisfied: six in /usr/local/lib/python3.6/dist-packages (from javalang) (1.15.0)\n",
            "Installing collected packages: javalang\n",
            "Successfully installed javalang-0.13.0\n"
          ],
          "name": "stdout"
        }
      ]
    },
    {
      "cell_type": "markdown",
      "metadata": {
        "id": "f9ptbEBfcuJp"
      },
      "source": [
        "1)Method invocation and class instance creation nodes:\n",
        "We extract and record these nodes using their method or\n",
        "class names. For example, we extract method pop() and\n",
        "push() in File2.java in Figure 1 and record them as pop\n",
        "and push.\n",
        "\n",
        "2)Declaration nodes: We extract method declaration, type\n",
        "declaration and enum declaration nodes, and record them\n",
        "using their names.\n",
        "\n",
        "3)Control-flow nodes: We extract those statements or\n",
        "clauses related to control flow of a program, e.g., if state-\n",
        "ment, for statement, while statement, catch clause.\n",
        "Control-flow nodes are recorded using their statement types,\n",
        "e.g., if statement is recorded as if, and catch clause is recorded\n",
        "as catch.\n",
        "Therefore\n",
        "\n",
        "karena hanya 3 aturan yg digunakan maka types node dari AST yg digunakan adalah dibawah ini:"
      ]
    },
    {
      "cell_type": "code",
      "metadata": {
        "id": "S3s2FoDXcuJr"
      },
      "source": [
        "types = [jlt.FormalParameter, jlt.BasicType, jlt.PackageDeclaration, jlt.InterfaceDeclaration, jlt.CatchClauseParameter,\n",
        "         jlt.ClassDeclaration, jlt.MethodInvocation, jlt.SuperMethodInvocation, jlt.MemberReference, jlt.SuperMemberReference,\n",
        "         jlt.ConstructorDeclaration, jlt.ReferenceType, jlt.MethodDeclaration, jlt.VariableDeclarator, jlt.IfStatement,\n",
        "         jlt.WhileStatement, jlt.DoStatement, jlt.ForStatement, jlt.AssertStatement, jlt.BreakStatement,\n",
        "         jlt.ContinueStatement, jlt.ReturnStatement, jlt.ThrowStatement, jlt.SynchronizedStatement, jlt.TryStatement,\n",
        "         jlt.SwitchStatement, jlt.BlockStatement, jlt.StatementExpression, jlt.TryResource, jlt.CatchClause,\n",
        "         jlt.CatchClauseParameter, jlt.SwitchStatementCase, jlt.ForControl, jlt.EnhancedForControl]"
      ],
      "execution_count": null,
      "outputs": []
    },
    {
      "cell_type": "markdown",
      "metadata": {
        "id": "YF5HKq1kcuJ2"
      },
      "source": [
        "Function untuk parse dari source code ke AST -> Token\n",
        "\n",
        "Didefinisikan secara manual"
      ]
    },
    {
      "cell_type": "code",
      "metadata": {
        "scrolled": true,
        "id": "5nw0FeyEcuJ4"
      },
      "source": [
        "def parse(source):\n",
        "    tokens = javalang.parse.parse(source)\n",
        "    result = []\n",
        "    for path, node in tokens:\n",
        "        if isinstance(node, jlt.PackageDeclaration):\n",
        "            result.append(node.name)\n",
        "            continue\n",
        "        if isinstance(node, jlt.IfStatement):\n",
        "            result.append(\"if\")\n",
        "            continue\n",
        "        if isinstance(node, jlt.InterfaceDeclaration):\n",
        "            result.append(node.name)\n",
        "            continue\n",
        "        if isinstance(node, jlt.ClassDeclaration):\n",
        "            result.append(node.name)\n",
        "            continue\n",
        "        if isinstance(node, jlt.MethodInvocation):\n",
        "            result.append(node.member)\n",
        "            continue\n",
        "        if isinstance(node, jlt.MemberReference):\n",
        "            result.append(node.member)\n",
        "            continue\n",
        "        if isinstance(node, jlt.ConstructorDeclaration):\n",
        "            result.append(node.name)\n",
        "            continue\n",
        "        if isinstance(node, jlt.ReferenceType):\n",
        "            result.append(node.name)\n",
        "            continue\n",
        "        if isinstance(node, jlt.MethodDeclaration):\n",
        "            result.append(node.name)\n",
        "            continue\n",
        "        if isinstance(node, jlt.VariableDeclarator):\n",
        "            result.append(node.name)\n",
        "            continue\n",
        "        if isinstance(node, jlt.ThrowStatement):\n",
        "            result.append(\"throw\")\n",
        "            continue\n",
        "        if isinstance(node, jlt.TryStatement):\n",
        "            result.append(\"try\")\n",
        "            continue\n",
        "        if isinstance(node, jlt.BlockStatement):\n",
        "            result.append(\"block\")\n",
        "            continue\n",
        "        if isinstance(node, jlt.CatchClause):\n",
        "            result.append(\"catch\")\n",
        "            continue\n",
        "        if isinstance(node, jlt.ForStatement):\n",
        "            result.append(\"for\")\n",
        "            continue\n",
        "        if isinstance(node, jlt.AssertStatement):\n",
        "            result.append(\"assert\")\n",
        "            continue\n",
        "        if isinstance(node, jlt.BreakStatement):\n",
        "            result.append(\"break\")\n",
        "            continue\n",
        "        if isinstance(node, jlt.ContinueStatement):\n",
        "            result.append(\"cotinue\")\n",
        "            continue\n",
        "        if isinstance(node, jlt.ReturnStatement):\n",
        "            result.append(\"return\")\n",
        "            continue\n",
        "        if isinstance(node, jlt.ReturnStatement):\n",
        "            result.append(\"return\")\n",
        "            continue\n",
        "        if isinstance(node, jlt.ThrowStatement):\n",
        "            result.append(\"throw\")\n",
        "            continue\n",
        "        if isinstance(node, jlt.SwitchStatement):\n",
        "            result.append(\"switch\")\n",
        "            continue\n",
        "        if isinstance(node, jlt.WhileStatement):\n",
        "            result.append(\"while\")\n",
        "            continue\n",
        "        if isinstance(node, jlt.DoStatement):\n",
        "            result.append(\"do\")\n",
        "            continue\n",
        "        if isinstance(node, jlt.CatchClauseParameter):\n",
        "            result.append(node.types)\n",
        "            continue\n",
        "        if isinstance(node, jlt.BasicType):\n",
        "            result.append(node.name)\n",
        "            continue\n",
        "        if isinstance(node, jlt.SynchronizedStatement):\n",
        "            result.append(\"Synchronized\")\n",
        "            continue\n",
        "    return result\n"
      ],
      "execution_count": null,
      "outputs": []
    },
    {
      "cell_type": "markdown",
      "metadata": {
        "id": "AP56Dbc3cuJ-"
      },
      "source": [
        "Proses mengubah Source Code (File) -> AST -> Token\n",
        "\n",
        "Arsitektur Folder\n",
        "\n",
        "\n",
        "\"Nama Project\"\n",
        "\n",
        "    \"Defect\"\n",
        "\n",
        "        \"File Defect 1\"\n",
        "\n",
        "        \"File Defect 2\"\n",
        "\n",
        "        ....\n",
        "\n",
        "    \"Non-Defect\"\n",
        "\n",
        "        \"File Non-Defect 1\"\n",
        "\n",
        "        \"File Non-Defect 2\"\n",
        "\n",
        "        ...."
      ]
    },
    {
      "cell_type": "code",
      "metadata": {
        "scrolled": true,
        "id": "QSKdxJpNcuJ_"
      },
      "source": [
        "def Tokenize(dir_name):\n",
        "    df_list = []\n",
        "    df = pd.DataFrame(columns=['File','Token','Defect'])\n",
        "    for (dirpath, dirnames, filenames) in walk(dir_name):\n",
        "        for label in dirnames: \n",
        "            for (dirpath, dirnames, filenames) in walk(dir_name+'/'+label):\n",
        "                for filename in filenames:\n",
        "                    f = open(dir_name+'/'+label+'/'+filename, \"r\")\n",
        "                    f = f.read()\n",
        "                    try:\n",
        "                        p = parse(f)\n",
        "                    except:\n",
        "                        continue\n",
        "\n",
        "                    temp = pd.DataFrame([[filename,p,label]],columns=['File','Token','Defect'])\n",
        "                    df_list.append(temp)\n",
        "                break\n",
        "        break\n",
        "    df = pd.concat(df_list)\n",
        "    df = df.reset_index()\n",
        "    return df"
      ],
      "execution_count": null,
      "outputs": []
    },
    {
      "cell_type": "code",
      "metadata": {
        "id": "7mY7-fH8eVg-",
        "colab": {
          "base_uri": "https://localhost:8080/",
          "height": 35
        },
        "outputId": "afc306b2-d42e-44d5-d63e-6afc52704b91"
      },
      "source": [
        "from google.colab import drive\n",
        "drive.mount('/content/drive')"
      ],
      "execution_count": null,
      "outputs": [
        {
          "output_type": "stream",
          "text": [
            "Mounted at /content/drive\n"
          ],
          "name": "stdout"
        }
      ]
    },
    {
      "cell_type": "code",
      "metadata": {
        "id": "I0Lm8rlEe1WP"
      },
      "source": [
        "Token_camel = Tokenize('/content/drive/My Drive/camel-1.6/')"
      ],
      "execution_count": null,
      "outputs": []
    },
    {
      "cell_type": "code",
      "metadata": {
        "id": "hZfsIVtTcuKH",
        "colab": {
          "base_uri": "https://localhost:8080/",
          "height": 407
        },
        "outputId": "da5cf39e-8acd-4247-a031-14e66ec0862b"
      },
      "source": [
        "Token_camel"
      ],
      "execution_count": null,
      "outputs": [
        {
          "output_type": "execute_result",
          "data": {
            "text/html": [
              "<div>\n",
              "<style scoped>\n",
              "    .dataframe tbody tr th:only-of-type {\n",
              "        vertical-align: middle;\n",
              "    }\n",
              "\n",
              "    .dataframe tbody tr th {\n",
              "        vertical-align: top;\n",
              "    }\n",
              "\n",
              "    .dataframe thead th {\n",
              "        text-align: right;\n",
              "    }\n",
              "</style>\n",
              "<table border=\"1\" class=\"dataframe\">\n",
              "  <thead>\n",
              "    <tr style=\"text-align: right;\">\n",
              "      <th></th>\n",
              "      <th>index</th>\n",
              "      <th>File</th>\n",
              "      <th>Token</th>\n",
              "      <th>Defect</th>\n",
              "    </tr>\n",
              "  </thead>\n",
              "  <tbody>\n",
              "    <tr>\n",
              "      <th>0</th>\n",
              "      <td>0</td>\n",
              "      <td>HandleFaultProcessor.java</td>\n",
              "      <td>[org.apache.camel.processor, HandleFaultProces...</td>\n",
              "      <td>Defect</td>\n",
              "    </tr>\n",
              "    <tr>\n",
              "      <th>1</th>\n",
              "      <td>0</td>\n",
              "      <td>XStreamDataFormat.java</td>\n",
              "      <td>[org.apache.camel.dataformat.xstream, XStreamD...</td>\n",
              "      <td>Defect</td>\n",
              "    </tr>\n",
              "    <tr>\n",
              "      <th>2</th>\n",
              "      <td>0</td>\n",
              "      <td>ChoiceProcessor.java</td>\n",
              "      <td>[org.apache.camel.processor, ChoiceProcessor, ...</td>\n",
              "      <td>Defect</td>\n",
              "    </tr>\n",
              "    <tr>\n",
              "      <th>3</th>\n",
              "      <td>0</td>\n",
              "      <td>TransformProcessor.java</td>\n",
              "      <td>[org.apache.camel.processor, TransformProcesso...</td>\n",
              "      <td>Defect</td>\n",
              "    </tr>\n",
              "    <tr>\n",
              "      <th>4</th>\n",
              "      <td>0</td>\n",
              "      <td>DefaultScheduledPollConsumer.java</td>\n",
              "      <td>[org.apache.camel.impl, DefaultScheduledPollCo...</td>\n",
              "      <td>Defect</td>\n",
              "    </tr>\n",
              "    <tr>\n",
              "      <th>...</th>\n",
              "      <td>...</td>\n",
              "      <td>...</td>\n",
              "      <td>...</td>\n",
              "      <td>...</td>\n",
              "    </tr>\n",
              "    <tr>\n",
              "      <th>903</th>\n",
              "      <td>0</td>\n",
              "      <td>StreamProducer.java</td>\n",
              "      <td>[org.apache.camel.component.stream, StreamProd...</td>\n",
              "      <td>Non-Defect</td>\n",
              "    </tr>\n",
              "    <tr>\n",
              "      <th>904</th>\n",
              "      <td>0</td>\n",
              "      <td>Activator.java</td>\n",
              "      <td>[org.apache.camel.osgi, Activator, String, MET...</td>\n",
              "      <td>Non-Defect</td>\n",
              "    </tr>\n",
              "    <tr>\n",
              "      <th>905</th>\n",
              "      <td>0</td>\n",
              "      <td>InvokingContextFactory.java</td>\n",
              "      <td>[org.apache.camel.component.cxf.invoker, Invok...</td>\n",
              "      <td>Non-Defect</td>\n",
              "    </tr>\n",
              "    <tr>\n",
              "      <th>906</th>\n",
              "      <td>0</td>\n",
              "      <td>HttpComponent.java</td>\n",
              "      <td>[org.apache.camel.component.http, HttpComponen...</td>\n",
              "      <td>Non-Defect</td>\n",
              "    </tr>\n",
              "    <tr>\n",
              "      <th>907</th>\n",
              "      <td>0</td>\n",
              "      <td>SQL.java</td>\n",
              "      <td>[org.apache.camel.builder.sql, RUNTIME, FIELD,...</td>\n",
              "      <td>Non-Defect</td>\n",
              "    </tr>\n",
              "  </tbody>\n",
              "</table>\n",
              "<p>908 rows × 4 columns</p>\n",
              "</div>"
            ],
            "text/plain": [
              "     index  ...      Defect\n",
              "0        0  ...      Defect\n",
              "1        0  ...      Defect\n",
              "2        0  ...      Defect\n",
              "3        0  ...      Defect\n",
              "4        0  ...      Defect\n",
              "..     ...  ...         ...\n",
              "903      0  ...  Non-Defect\n",
              "904      0  ...  Non-Defect\n",
              "905      0  ...  Non-Defect\n",
              "906      0  ...  Non-Defect\n",
              "907      0  ...  Non-Defect\n",
              "\n",
              "[908 rows x 4 columns]"
            ]
          },
          "metadata": {
            "tags": []
          },
          "execution_count": 7
        }
      ]
    },
    {
      "cell_type": "code",
      "metadata": {
        "id": "3AU0UWkFcuKM",
        "colab": {
          "base_uri": "https://localhost:8080/",
          "height": 1000
        },
        "outputId": "a1eaed29-2746-4198-c7fd-3e241c2ff88a"
      },
      "source": [
        "Token_camel.Token[8]"
      ],
      "execution_count": null,
      "outputs": [
        {
          "output_type": "execute_result",
          "data": {
            "text/plain": [
              "['org.apache.camel.dataformat.supercsv',\n",
              " 'CsvDataFormat',\n",
              " 'CsvPreference',\n",
              " 'preference',\n",
              " 'STANDARD_PREFERENCE',\n",
              " 'marshal',\n",
              " 'Exchange',\n",
              " 'Object',\n",
              " 'OutputStream',\n",
              " 'OutputStreamWriter',\n",
              " 'out',\n",
              " 'OutputStreamWriter',\n",
              " 'outputStream',\n",
              " 'if',\n",
              " 'object',\n",
              " 'Map',\n",
              " 'block',\n",
              " 'ICsvMapWriter',\n",
              " 'writer',\n",
              " 'CsvMapWriter',\n",
              " 'out',\n",
              " 'preference',\n",
              " 'Map',\n",
              " 'String',\n",
              " 'Object',\n",
              " 'map',\n",
              " 'Map',\n",
              " 'String',\n",
              " 'Object',\n",
              " 'object',\n",
              " 'Set',\n",
              " 'String',\n",
              " 'keys',\n",
              " 'keySet',\n",
              " 'String',\n",
              " 'headers',\n",
              " 'String',\n",
              " 'size',\n",
              " 'toArray',\n",
              " 'headers',\n",
              " 'writeHeader',\n",
              " 'headers',\n",
              " 'write',\n",
              " 'map',\n",
              " 'headers',\n",
              " 'if',\n",
              " 'object',\n",
              " 'block',\n",
              " 'ICsvBeanWriter',\n",
              " 'writer',\n",
              " 'CsvBeanWriter',\n",
              " 'out',\n",
              " 'preference',\n",
              " 'PropertyDescriptor',\n",
              " 'properties',\n",
              " 'getPropertyDescriptors',\n",
              " 'getClass',\n",
              " 'int',\n",
              " 'size',\n",
              " 'length',\n",
              " 'String',\n",
              " 'headers',\n",
              " 'String',\n",
              " 'size',\n",
              " 'for',\n",
              " 'int',\n",
              " 'i',\n",
              " 'i',\n",
              " 'size',\n",
              " 'i',\n",
              " 'block',\n",
              " 'headers',\n",
              " 'i',\n",
              " 'properties',\n",
              " 'i',\n",
              " 'getName',\n",
              " 'writeHeader',\n",
              " 'headers',\n",
              " 'write',\n",
              " 'object',\n",
              " 'headers',\n",
              " 'close',\n",
              " 'unmarshal',\n",
              " 'Object',\n",
              " 'Exchange',\n",
              " 'InputStream',\n",
              " 'ICsvMapReader',\n",
              " 'reader',\n",
              " 'CsvMapReader',\n",
              " 'InputStreamReader',\n",
              " 'inputStream',\n",
              " 'preference',\n",
              " 'String',\n",
              " 'headers',\n",
              " 'getCSVHeader',\n",
              " 'List',\n",
              " 'Map',\n",
              " 'String',\n",
              " 'String',\n",
              " 'list',\n",
              " 'ArrayList',\n",
              " 'Map',\n",
              " 'String',\n",
              " 'String',\n",
              " 'try',\n",
              " 'while',\n",
              " 'block',\n",
              " 'Map',\n",
              " 'String',\n",
              " 'String',\n",
              " 'map',\n",
              " 'read',\n",
              " 'headers',\n",
              " 'if',\n",
              " 'map',\n",
              " 'block',\n",
              " 'break',\n",
              " 'block',\n",
              " 'add',\n",
              " 'map',\n",
              " 'catch',\n",
              " ['EOFException'],\n",
              " 'catch',\n",
              " ['IOException'],\n",
              " 'throw',\n",
              " 'e',\n",
              " 'if',\n",
              " 'size',\n",
              " 'block',\n",
              " 'return',\n",
              " 'get',\n",
              " 'block',\n",
              " 'return',\n",
              " 'list',\n",
              " 'getPreference',\n",
              " 'CsvPreference',\n",
              " 'return',\n",
              " 'preference',\n",
              " 'setPreference',\n",
              " 'CsvPreference',\n",
              " 'preference',\n",
              " 'preference',\n",
              " 'DataFormat']"
            ]
          },
          "metadata": {
            "tags": []
          },
          "execution_count": 8
        }
      ]
    }
  ]
}