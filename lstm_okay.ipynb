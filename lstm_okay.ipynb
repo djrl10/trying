{
  "nbformat": 4,
  "nbformat_minor": 0,
  "metadata": {
    "colab": {
      "name": "lstm okay.ipynb",
      "provenance": [],
      "collapsed_sections": [],
      "authorship_tag": "ABX9TyMzyTA4I7RnqqHew/IoWwKg",
      "include_colab_link": true
    },
    "kernelspec": {
      "name": "python3",
      "display_name": "Python 3"
    },
    "language_info": {
      "name": "python"
    }
  },
  "cells": [
    {
      "cell_type": "markdown",
      "metadata": {
        "id": "view-in-github",
        "colab_type": "text"
      },
      "source": [
        "<a href=\"https://colab.research.google.com/github/djrl10/trying/blob/master/lstm_okay.ipynb\" target=\"_parent\"><img src=\"https://colab.research.google.com/assets/colab-badge.svg\" alt=\"Open In Colab\"/></a>"
      ]
    },
    {
      "cell_type": "code",
      "metadata": {
        "colab": {
          "base_uri": "https://localhost:8080/"
        },
        "id": "KdduXAMfHK1P",
        "outputId": "75d1c701-d916-4f05-91f6-0c03de298b4a"
      },
      "source": [
        "from google.colab import drive\n",
        "drive.mount('/content/drive')"
      ],
      "execution_count": 64,
      "outputs": [
        {
          "output_type": "stream",
          "text": [
            "Drive already mounted at /content/drive; to attempt to forcibly remount, call drive.mount(\"/content/drive\", force_remount=True).\n"
          ],
          "name": "stdout"
        }
      ]
    },
    {
      "cell_type": "code",
      "metadata": {
        "colab": {
          "base_uri": "https://localhost:8080/"
        },
        "id": "AGjQVI0BHT40",
        "outputId": "be46f935-7353-4479-ec60-49948e312cc1"
      },
      "source": [
        "import tensorflow as tf\n",
        "import pandas as pd\n",
        "from io import StringIO\n",
        "from sklearn.datasets import make_circles\n",
        "from sklearn.metrics import accuracy_score\n",
        "from sklearn.metrics import precision_score\n",
        "from sklearn.metrics import recall_score\n",
        "from sklearn.metrics import f1_score\n",
        "from sklearn.metrics import cohen_kappa_score\n",
        "from sklearn.metrics import roc_auc_score\n",
        "from sklearn.metrics import confusion_matrix\n",
        "from keras.models import Sequential\n",
        "\n",
        "from sklearn.model_selection import train_test_split\n",
        "\n",
        "import matplotlib.pyplot as plt\n",
        "import pandas as pd\n",
        "import numpy as np\n",
        "import codecs\n",
        "import os\n",
        "import glob\n",
        "import re , itertools\n",
        "from html import unescape\n",
        "!pip install unidecode\n",
        "from unidecode import unidecode\n",
        "from sklearn.preprocessing import StandardScaler\n",
        "from tensorflow.keras.layers import Dense, Dropout\n",
        "from tensorflow.keras.activations import elu, softmax\n",
        "from sklearn.metrics import confusion_matrix\n",
        "import seaborn\n",
        "from keras.layers.core import Activation\n",
        "from keras.models import Sequential,load_model\n",
        "from keras.layers import LSTM\n",
        "from sklearn.model_selection import train_test_split\n",
        "from sklearn.preprocessing import MinMaxScaler"
      ],
      "execution_count": 65,
      "outputs": [
        {
          "output_type": "stream",
          "text": [
            "Requirement already satisfied: unidecode in /usr/local/lib/python3.7/dist-packages (1.2.0)\n"
          ],
          "name": "stdout"
        }
      ]
    },
    {
      "cell_type": "code",
      "metadata": {
        "colab": {
          "base_uri": "https://localhost:8080/"
        },
        "id": "Lz96DCxI13k5",
        "outputId": "ef699a4e-7ae1-458f-86b2-6cae140c5fed"
      },
      "source": [
        "print(tf.__version__)"
      ],
      "execution_count": 66,
      "outputs": [
        {
          "output_type": "stream",
          "text": [
            "2.5.0\n"
          ],
          "name": "stdout"
        }
      ]
    },
    {
      "cell_type": "code",
      "metadata": {
        "id": "W2ufRt1MHir9"
      },
      "source": [
        "df = pd.read_csv(\"/content/drive/My Drive/datadataset/KC1.csv\")"
      ],
      "execution_count": 67,
      "outputs": []
    },
    {
      "cell_type": "code",
      "metadata": {
        "colab": {
          "base_uri": "https://localhost:8080/"
        },
        "id": "Akt1R0juZBEf",
        "outputId": "f687da54-626e-44e8-ede0-81075d50b2ce"
      },
      "source": [
        "df.columns"
      ],
      "execution_count": 68,
      "outputs": [
        {
          "output_type": "execute_result",
          "data": {
            "text/plain": [
              "Index(['loc', 'v(g)', 'ev(g)', 'iv(g)', 'n', 'v', 'l', 'd', 'i', 'e', 'b', 't',\n",
              "       'lOCode', 'lOComment', 'lOBlank', 'locCodeAndComment', 'uniq_Op',\n",
              "       'uniq_Opnd', 'total_Op', 'total_Opnd', 'branchCount', 'class'],\n",
              "      dtype='object')"
            ]
          },
          "metadata": {
            "tags": []
          },
          "execution_count": 68
        }
      ]
    },
    {
      "cell_type": "code",
      "metadata": {
        "colab": {
          "base_uri": "https://localhost:8080/"
        },
        "id": "2fYb7VBHZPLR",
        "outputId": "a14f7302-96e7-4347-afbd-f9c9014040f6"
      },
      "source": [
        "df.dtypes"
      ],
      "execution_count": 69,
      "outputs": [
        {
          "output_type": "execute_result",
          "data": {
            "text/plain": [
              "loc                  float64\n",
              "v(g)                 float64\n",
              "ev(g)                float64\n",
              "iv(g)                float64\n",
              "n                    float64\n",
              "v                    float64\n",
              "l                    float64\n",
              "d                    float64\n",
              "i                    float64\n",
              "e                    float64\n",
              "b                    float64\n",
              "t                    float64\n",
              "lOCode                 int64\n",
              "lOComment              int64\n",
              "lOBlank                int64\n",
              "locCodeAndComment      int64\n",
              "uniq_Op              float64\n",
              "uniq_Opnd            float64\n",
              "total_Op             float64\n",
              "total_Opnd           float64\n",
              "branchCount          float64\n",
              "class                   bool\n",
              "dtype: object"
            ]
          },
          "metadata": {
            "tags": []
          },
          "execution_count": 69
        }
      ]
    },
    {
      "cell_type": "code",
      "metadata": {
        "colab": {
          "base_uri": "https://localhost:8080/"
        },
        "id": "K4IwK_J3ZXFO",
        "outputId": "e24de85e-9afb-4e21-f758-78d2d8cafb26"
      },
      "source": [
        "df.shape"
      ],
      "execution_count": 70,
      "outputs": [
        {
          "output_type": "execute_result",
          "data": {
            "text/plain": [
              "(2109, 22)"
            ]
          },
          "metadata": {
            "tags": []
          },
          "execution_count": 70
        }
      ]
    },
    {
      "cell_type": "code",
      "metadata": {
        "colab": {
          "base_uri": "https://localhost:8080/"
        },
        "id": "x0UlTocLmeS-",
        "outputId": "29da5473-4e18-4514-f012-d903feaccb8c"
      },
      "source": [
        "df.isnull().sum()"
      ],
      "execution_count": 71,
      "outputs": [
        {
          "output_type": "execute_result",
          "data": {
            "text/plain": [
              "loc                  0\n",
              "v(g)                 0\n",
              "ev(g)                0\n",
              "iv(g)                0\n",
              "n                    0\n",
              "v                    0\n",
              "l                    0\n",
              "d                    0\n",
              "i                    0\n",
              "e                    0\n",
              "b                    0\n",
              "t                    0\n",
              "lOCode               0\n",
              "lOComment            0\n",
              "lOBlank              0\n",
              "locCodeAndComment    0\n",
              "uniq_Op              0\n",
              "uniq_Opnd            0\n",
              "total_Op             0\n",
              "total_Opnd           0\n",
              "branchCount          0\n",
              "class                0\n",
              "dtype: int64"
            ]
          },
          "metadata": {
            "tags": []
          },
          "execution_count": 71
        }
      ]
    },
    {
      "cell_type": "code",
      "metadata": {
        "colab": {
          "base_uri": "https://localhost:8080/",
          "height": 225
        },
        "id": "Qr5UgK9vak7f",
        "outputId": "a447efaf-7bc1-4e6b-d4c7-0811dfb629cc"
      },
      "source": [
        "df.head()"
      ],
      "execution_count": 72,
      "outputs": [
        {
          "output_type": "execute_result",
          "data": {
            "text/html": [
              "<div>\n",
              "<style scoped>\n",
              "    .dataframe tbody tr th:only-of-type {\n",
              "        vertical-align: middle;\n",
              "    }\n",
              "\n",
              "    .dataframe tbody tr th {\n",
              "        vertical-align: top;\n",
              "    }\n",
              "\n",
              "    .dataframe thead th {\n",
              "        text-align: right;\n",
              "    }\n",
              "</style>\n",
              "<table border=\"1\" class=\"dataframe\">\n",
              "  <thead>\n",
              "    <tr style=\"text-align: right;\">\n",
              "      <th></th>\n",
              "      <th>loc</th>\n",
              "      <th>v(g)</th>\n",
              "      <th>ev(g)</th>\n",
              "      <th>iv(g)</th>\n",
              "      <th>n</th>\n",
              "      <th>v</th>\n",
              "      <th>l</th>\n",
              "      <th>d</th>\n",
              "      <th>i</th>\n",
              "      <th>e</th>\n",
              "      <th>b</th>\n",
              "      <th>t</th>\n",
              "      <th>lOCode</th>\n",
              "      <th>lOComment</th>\n",
              "      <th>lOBlank</th>\n",
              "      <th>locCodeAndComment</th>\n",
              "      <th>uniq_Op</th>\n",
              "      <th>uniq_Opnd</th>\n",
              "      <th>total_Op</th>\n",
              "      <th>total_Opnd</th>\n",
              "      <th>branchCount</th>\n",
              "      <th>class</th>\n",
              "    </tr>\n",
              "  </thead>\n",
              "  <tbody>\n",
              "    <tr>\n",
              "      <th>0</th>\n",
              "      <td>1.1</td>\n",
              "      <td>1.4</td>\n",
              "      <td>1.4</td>\n",
              "      <td>1.4</td>\n",
              "      <td>1.3</td>\n",
              "      <td>1.30</td>\n",
              "      <td>1.30</td>\n",
              "      <td>1.30</td>\n",
              "      <td>1.30</td>\n",
              "      <td>1.30</td>\n",
              "      <td>1.30</td>\n",
              "      <td>1.30</td>\n",
              "      <td>2</td>\n",
              "      <td>2</td>\n",
              "      <td>2</td>\n",
              "      <td>2</td>\n",
              "      <td>1.2</td>\n",
              "      <td>1.2</td>\n",
              "      <td>1.2</td>\n",
              "      <td>1.2</td>\n",
              "      <td>1.4</td>\n",
              "      <td>False</td>\n",
              "    </tr>\n",
              "    <tr>\n",
              "      <th>1</th>\n",
              "      <td>1.0</td>\n",
              "      <td>1.0</td>\n",
              "      <td>1.0</td>\n",
              "      <td>1.0</td>\n",
              "      <td>1.0</td>\n",
              "      <td>1.00</td>\n",
              "      <td>1.00</td>\n",
              "      <td>1.00</td>\n",
              "      <td>1.00</td>\n",
              "      <td>1.00</td>\n",
              "      <td>1.00</td>\n",
              "      <td>1.00</td>\n",
              "      <td>1</td>\n",
              "      <td>1</td>\n",
              "      <td>1</td>\n",
              "      <td>1</td>\n",
              "      <td>1.0</td>\n",
              "      <td>1.0</td>\n",
              "      <td>1.0</td>\n",
              "      <td>1.0</td>\n",
              "      <td>1.0</td>\n",
              "      <td>True</td>\n",
              "    </tr>\n",
              "    <tr>\n",
              "      <th>2</th>\n",
              "      <td>83.0</td>\n",
              "      <td>11.0</td>\n",
              "      <td>1.0</td>\n",
              "      <td>11.0</td>\n",
              "      <td>171.0</td>\n",
              "      <td>927.89</td>\n",
              "      <td>0.04</td>\n",
              "      <td>23.04</td>\n",
              "      <td>40.27</td>\n",
              "      <td>21378.61</td>\n",
              "      <td>0.31</td>\n",
              "      <td>1187.70</td>\n",
              "      <td>65</td>\n",
              "      <td>10</td>\n",
              "      <td>6</td>\n",
              "      <td>0</td>\n",
              "      <td>18.0</td>\n",
              "      <td>25.0</td>\n",
              "      <td>107.0</td>\n",
              "      <td>64.0</td>\n",
              "      <td>21.0</td>\n",
              "      <td>True</td>\n",
              "    </tr>\n",
              "    <tr>\n",
              "      <th>3</th>\n",
              "      <td>46.0</td>\n",
              "      <td>8.0</td>\n",
              "      <td>6.0</td>\n",
              "      <td>8.0</td>\n",
              "      <td>141.0</td>\n",
              "      <td>769.78</td>\n",
              "      <td>0.07</td>\n",
              "      <td>14.86</td>\n",
              "      <td>51.81</td>\n",
              "      <td>11436.73</td>\n",
              "      <td>0.26</td>\n",
              "      <td>635.37</td>\n",
              "      <td>37</td>\n",
              "      <td>2</td>\n",
              "      <td>5</td>\n",
              "      <td>0</td>\n",
              "      <td>16.0</td>\n",
              "      <td>28.0</td>\n",
              "      <td>89.0</td>\n",
              "      <td>52.0</td>\n",
              "      <td>15.0</td>\n",
              "      <td>True</td>\n",
              "    </tr>\n",
              "    <tr>\n",
              "      <th>4</th>\n",
              "      <td>25.0</td>\n",
              "      <td>3.0</td>\n",
              "      <td>1.0</td>\n",
              "      <td>3.0</td>\n",
              "      <td>58.0</td>\n",
              "      <td>254.75</td>\n",
              "      <td>0.11</td>\n",
              "      <td>9.35</td>\n",
              "      <td>27.25</td>\n",
              "      <td>2381.95</td>\n",
              "      <td>0.08</td>\n",
              "      <td>132.33</td>\n",
              "      <td>21</td>\n",
              "      <td>0</td>\n",
              "      <td>2</td>\n",
              "      <td>0</td>\n",
              "      <td>11.0</td>\n",
              "      <td>10.0</td>\n",
              "      <td>41.0</td>\n",
              "      <td>17.0</td>\n",
              "      <td>5.0</td>\n",
              "      <td>True</td>\n",
              "    </tr>\n",
              "  </tbody>\n",
              "</table>\n",
              "</div>"
            ],
            "text/plain": [
              "    loc  v(g)  ev(g)  iv(g)  ...  total_Op  total_Opnd  branchCount  class\n",
              "0   1.1   1.4    1.4    1.4  ...       1.2         1.2          1.4  False\n",
              "1   1.0   1.0    1.0    1.0  ...       1.0         1.0          1.0   True\n",
              "2  83.0  11.0    1.0   11.0  ...     107.0        64.0         21.0   True\n",
              "3  46.0   8.0    6.0    8.0  ...      89.0        52.0         15.0   True\n",
              "4  25.0   3.0    1.0    3.0  ...      41.0        17.0          5.0   True\n",
              "\n",
              "[5 rows x 22 columns]"
            ]
          },
          "metadata": {
            "tags": []
          },
          "execution_count": 72
        }
      ]
    },
    {
      "cell_type": "code",
      "metadata": {
        "colab": {
          "base_uri": "https://localhost:8080/"
        },
        "id": "hzAvUhZJfLfe",
        "outputId": "a4c14a7b-0e6f-4ce7-b091-7651821dd264"
      },
      "source": [
        "# One-hot encoding\n",
        "classification = pd.get_dummies(df[df.columns[1]])\n",
        "print(classification.shape)"
      ],
      "execution_count": 73,
      "outputs": [
        {
          "output_type": "stream",
          "text": [
            "(2109, 31)\n"
          ],
          "name": "stdout"
        }
      ]
    },
    {
      "cell_type": "code",
      "metadata": {
        "id": "cWdpySIcUvKp"
      },
      "source": [
        "X =df.drop([df.columns[0], df.columns[1], df.columns[21]], axis=1)   # drop the target variable from df "
      ],
      "execution_count": 74,
      "outputs": []
    },
    {
      "cell_type": "code",
      "metadata": {
        "colab": {
          "base_uri": "https://localhost:8080/",
          "height": 225
        },
        "id": "7hIl8eX5PSfj",
        "outputId": "ade522ed-5fc7-441f-f8c9-c3c06b81286f"
      },
      "source": [
        "X.head() "
      ],
      "execution_count": 75,
      "outputs": [
        {
          "output_type": "execute_result",
          "data": {
            "text/html": [
              "<div>\n",
              "<style scoped>\n",
              "    .dataframe tbody tr th:only-of-type {\n",
              "        vertical-align: middle;\n",
              "    }\n",
              "\n",
              "    .dataframe tbody tr th {\n",
              "        vertical-align: top;\n",
              "    }\n",
              "\n",
              "    .dataframe thead th {\n",
              "        text-align: right;\n",
              "    }\n",
              "</style>\n",
              "<table border=\"1\" class=\"dataframe\">\n",
              "  <thead>\n",
              "    <tr style=\"text-align: right;\">\n",
              "      <th></th>\n",
              "      <th>ev(g)</th>\n",
              "      <th>iv(g)</th>\n",
              "      <th>n</th>\n",
              "      <th>v</th>\n",
              "      <th>l</th>\n",
              "      <th>d</th>\n",
              "      <th>i</th>\n",
              "      <th>e</th>\n",
              "      <th>b</th>\n",
              "      <th>t</th>\n",
              "      <th>lOCode</th>\n",
              "      <th>lOComment</th>\n",
              "      <th>lOBlank</th>\n",
              "      <th>locCodeAndComment</th>\n",
              "      <th>uniq_Op</th>\n",
              "      <th>uniq_Opnd</th>\n",
              "      <th>total_Op</th>\n",
              "      <th>total_Opnd</th>\n",
              "      <th>branchCount</th>\n",
              "    </tr>\n",
              "  </thead>\n",
              "  <tbody>\n",
              "    <tr>\n",
              "      <th>0</th>\n",
              "      <td>1.4</td>\n",
              "      <td>1.4</td>\n",
              "      <td>1.3</td>\n",
              "      <td>1.30</td>\n",
              "      <td>1.30</td>\n",
              "      <td>1.30</td>\n",
              "      <td>1.30</td>\n",
              "      <td>1.30</td>\n",
              "      <td>1.30</td>\n",
              "      <td>1.30</td>\n",
              "      <td>2</td>\n",
              "      <td>2</td>\n",
              "      <td>2</td>\n",
              "      <td>2</td>\n",
              "      <td>1.2</td>\n",
              "      <td>1.2</td>\n",
              "      <td>1.2</td>\n",
              "      <td>1.2</td>\n",
              "      <td>1.4</td>\n",
              "    </tr>\n",
              "    <tr>\n",
              "      <th>1</th>\n",
              "      <td>1.0</td>\n",
              "      <td>1.0</td>\n",
              "      <td>1.0</td>\n",
              "      <td>1.00</td>\n",
              "      <td>1.00</td>\n",
              "      <td>1.00</td>\n",
              "      <td>1.00</td>\n",
              "      <td>1.00</td>\n",
              "      <td>1.00</td>\n",
              "      <td>1.00</td>\n",
              "      <td>1</td>\n",
              "      <td>1</td>\n",
              "      <td>1</td>\n",
              "      <td>1</td>\n",
              "      <td>1.0</td>\n",
              "      <td>1.0</td>\n",
              "      <td>1.0</td>\n",
              "      <td>1.0</td>\n",
              "      <td>1.0</td>\n",
              "    </tr>\n",
              "    <tr>\n",
              "      <th>2</th>\n",
              "      <td>1.0</td>\n",
              "      <td>11.0</td>\n",
              "      <td>171.0</td>\n",
              "      <td>927.89</td>\n",
              "      <td>0.04</td>\n",
              "      <td>23.04</td>\n",
              "      <td>40.27</td>\n",
              "      <td>21378.61</td>\n",
              "      <td>0.31</td>\n",
              "      <td>1187.70</td>\n",
              "      <td>65</td>\n",
              "      <td>10</td>\n",
              "      <td>6</td>\n",
              "      <td>0</td>\n",
              "      <td>18.0</td>\n",
              "      <td>25.0</td>\n",
              "      <td>107.0</td>\n",
              "      <td>64.0</td>\n",
              "      <td>21.0</td>\n",
              "    </tr>\n",
              "    <tr>\n",
              "      <th>3</th>\n",
              "      <td>6.0</td>\n",
              "      <td>8.0</td>\n",
              "      <td>141.0</td>\n",
              "      <td>769.78</td>\n",
              "      <td>0.07</td>\n",
              "      <td>14.86</td>\n",
              "      <td>51.81</td>\n",
              "      <td>11436.73</td>\n",
              "      <td>0.26</td>\n",
              "      <td>635.37</td>\n",
              "      <td>37</td>\n",
              "      <td>2</td>\n",
              "      <td>5</td>\n",
              "      <td>0</td>\n",
              "      <td>16.0</td>\n",
              "      <td>28.0</td>\n",
              "      <td>89.0</td>\n",
              "      <td>52.0</td>\n",
              "      <td>15.0</td>\n",
              "    </tr>\n",
              "    <tr>\n",
              "      <th>4</th>\n",
              "      <td>1.0</td>\n",
              "      <td>3.0</td>\n",
              "      <td>58.0</td>\n",
              "      <td>254.75</td>\n",
              "      <td>0.11</td>\n",
              "      <td>9.35</td>\n",
              "      <td>27.25</td>\n",
              "      <td>2381.95</td>\n",
              "      <td>0.08</td>\n",
              "      <td>132.33</td>\n",
              "      <td>21</td>\n",
              "      <td>0</td>\n",
              "      <td>2</td>\n",
              "      <td>0</td>\n",
              "      <td>11.0</td>\n",
              "      <td>10.0</td>\n",
              "      <td>41.0</td>\n",
              "      <td>17.0</td>\n",
              "      <td>5.0</td>\n",
              "    </tr>\n",
              "  </tbody>\n",
              "</table>\n",
              "</div>"
            ],
            "text/plain": [
              "   ev(g)  iv(g)      n       v  ...  uniq_Opnd  total_Op  total_Opnd  branchCount\n",
              "0    1.4    1.4    1.3    1.30  ...        1.2       1.2         1.2          1.4\n",
              "1    1.0    1.0    1.0    1.00  ...        1.0       1.0         1.0          1.0\n",
              "2    1.0   11.0  171.0  927.89  ...       25.0     107.0        64.0         21.0\n",
              "3    6.0    8.0  141.0  769.78  ...       28.0      89.0        52.0         15.0\n",
              "4    1.0    3.0   58.0  254.75  ...       10.0      41.0        17.0          5.0\n",
              "\n",
              "[5 rows x 19 columns]"
            ]
          },
          "metadata": {
            "tags": []
          },
          "execution_count": 75
        }
      ]
    },
    {
      "cell_type": "code",
      "metadata": {
        "id": "iBPZOiJkUycM"
      },
      "source": [
        "y = df[[df.columns[21]]]"
      ],
      "execution_count": 76,
      "outputs": []
    },
    {
      "cell_type": "code",
      "metadata": {
        "colab": {
          "base_uri": "https://localhost:8080/",
          "height": 205
        },
        "id": "b0X2V5xqNnvb",
        "outputId": "e752bf73-6c7b-4060-c7bd-b38ce857741b"
      },
      "source": [
        "y.head()"
      ],
      "execution_count": 77,
      "outputs": [
        {
          "output_type": "execute_result",
          "data": {
            "text/html": [
              "<div>\n",
              "<style scoped>\n",
              "    .dataframe tbody tr th:only-of-type {\n",
              "        vertical-align: middle;\n",
              "    }\n",
              "\n",
              "    .dataframe tbody tr th {\n",
              "        vertical-align: top;\n",
              "    }\n",
              "\n",
              "    .dataframe thead th {\n",
              "        text-align: right;\n",
              "    }\n",
              "</style>\n",
              "<table border=\"1\" class=\"dataframe\">\n",
              "  <thead>\n",
              "    <tr style=\"text-align: right;\">\n",
              "      <th></th>\n",
              "      <th>class</th>\n",
              "    </tr>\n",
              "  </thead>\n",
              "  <tbody>\n",
              "    <tr>\n",
              "      <th>0</th>\n",
              "      <td>False</td>\n",
              "    </tr>\n",
              "    <tr>\n",
              "      <th>1</th>\n",
              "      <td>True</td>\n",
              "    </tr>\n",
              "    <tr>\n",
              "      <th>2</th>\n",
              "      <td>True</td>\n",
              "    </tr>\n",
              "    <tr>\n",
              "      <th>3</th>\n",
              "      <td>True</td>\n",
              "    </tr>\n",
              "    <tr>\n",
              "      <th>4</th>\n",
              "      <td>True</td>\n",
              "    </tr>\n",
              "  </tbody>\n",
              "</table>\n",
              "</div>"
            ],
            "text/plain": [
              "   class\n",
              "0  False\n",
              "1   True\n",
              "2   True\n",
              "3   True\n",
              "4   True"
            ]
          },
          "metadata": {
            "tags": []
          },
          "execution_count": 77
        }
      ]
    },
    {
      "cell_type": "code",
      "metadata": {
        "id": "rgMQq3-Dzu7i"
      },
      "source": [
        "# Splitting the dataset into the Training set and Test set\n",
        "X_train,X_test,y_train,y_test=train_test_split(X,y,test_size=0.3,random_state=1)"
      ],
      "execution_count": 78,
      "outputs": []
    },
    {
      "cell_type": "code",
      "metadata": {
        "id": "iWYRyKu0wRZP"
      },
      "source": [
        "# Feature Scaling\n",
        "from sklearn.preprocessing import StandardScaler\n",
        "sc = StandardScaler()\n",
        "X_train1 = sc.fit_transform(X_train)\n",
        "X_test1 = sc.transform(X_test)"
      ],
      "execution_count": 79,
      "outputs": []
    },
    {
      "cell_type": "code",
      "metadata": {
        "colab": {
          "base_uri": "https://localhost:8080/"
        },
        "id": "IZduEsT-nZE-",
        "outputId": "627283dd-9082-4664-e150-71640334dd62"
      },
      "source": [
        "#Size of train test data\n",
        "X_train1.shape , y_train.shape"
      ],
      "execution_count": 80,
      "outputs": [
        {
          "output_type": "execute_result",
          "data": {
            "text/plain": [
              "((1476, 19), (1476, 1))"
            ]
          },
          "metadata": {
            "tags": []
          },
          "execution_count": 80
        }
      ]
    },
    {
      "cell_type": "code",
      "metadata": {
        "colab": {
          "base_uri": "https://localhost:8080/"
        },
        "id": "xEgO4ZmWnvGb",
        "outputId": "141a4664-1d5a-42fc-932e-206c336fa9ce"
      },
      "source": [
        "X_test1.shape , y_test.shape"
      ],
      "execution_count": 81,
      "outputs": [
        {
          "output_type": "execute_result",
          "data": {
            "text/plain": [
              "((633, 19), (633, 1))"
            ]
          },
          "metadata": {
            "tags": []
          },
          "execution_count": 81
        }
      ]
    },
    {
      "cell_type": "code",
      "metadata": {
        "colab": {
          "base_uri": "https://localhost:8080/",
          "height": 422
        },
        "id": "Z0E32elJOPL5",
        "outputId": "02f2e6e3-12b1-49e6-d4c1-4c8ccd2d1100"
      },
      "source": [
        "y_test"
      ],
      "execution_count": 82,
      "outputs": [
        {
          "output_type": "execute_result",
          "data": {
            "text/html": [
              "<div>\n",
              "<style scoped>\n",
              "    .dataframe tbody tr th:only-of-type {\n",
              "        vertical-align: middle;\n",
              "    }\n",
              "\n",
              "    .dataframe tbody tr th {\n",
              "        vertical-align: top;\n",
              "    }\n",
              "\n",
              "    .dataframe thead th {\n",
              "        text-align: right;\n",
              "    }\n",
              "</style>\n",
              "<table border=\"1\" class=\"dataframe\">\n",
              "  <thead>\n",
              "    <tr style=\"text-align: right;\">\n",
              "      <th></th>\n",
              "      <th>class</th>\n",
              "    </tr>\n",
              "  </thead>\n",
              "  <tbody>\n",
              "    <tr>\n",
              "      <th>996</th>\n",
              "      <td>False</td>\n",
              "    </tr>\n",
              "    <tr>\n",
              "      <th>1413</th>\n",
              "      <td>False</td>\n",
              "    </tr>\n",
              "    <tr>\n",
              "      <th>1651</th>\n",
              "      <td>False</td>\n",
              "    </tr>\n",
              "    <tr>\n",
              "      <th>845</th>\n",
              "      <td>False</td>\n",
              "    </tr>\n",
              "    <tr>\n",
              "      <th>1690</th>\n",
              "      <td>False</td>\n",
              "    </tr>\n",
              "    <tr>\n",
              "      <th>...</th>\n",
              "      <td>...</td>\n",
              "    </tr>\n",
              "    <tr>\n",
              "      <th>1011</th>\n",
              "      <td>False</td>\n",
              "    </tr>\n",
              "    <tr>\n",
              "      <th>340</th>\n",
              "      <td>False</td>\n",
              "    </tr>\n",
              "    <tr>\n",
              "      <th>1737</th>\n",
              "      <td>False</td>\n",
              "    </tr>\n",
              "    <tr>\n",
              "      <th>1943</th>\n",
              "      <td>False</td>\n",
              "    </tr>\n",
              "    <tr>\n",
              "      <th>1323</th>\n",
              "      <td>False</td>\n",
              "    </tr>\n",
              "  </tbody>\n",
              "</table>\n",
              "<p>633 rows × 1 columns</p>\n",
              "</div>"
            ],
            "text/plain": [
              "      class\n",
              "996   False\n",
              "1413  False\n",
              "1651  False\n",
              "845   False\n",
              "1690  False\n",
              "...     ...\n",
              "1011  False\n",
              "340   False\n",
              "1737  False\n",
              "1943  False\n",
              "1323  False\n",
              "\n",
              "[633 rows x 1 columns]"
            ]
          },
          "metadata": {
            "tags": []
          },
          "execution_count": 82
        }
      ]
    },
    {
      "cell_type": "code",
      "metadata": {
        "colab": {
          "base_uri": "https://localhost:8080/",
          "height": 422
        },
        "id": "JFLmCQPJOMjv",
        "outputId": "8cde43a6-65a0-48c2-8671-90f3570a6f41"
      },
      "source": [
        "y_train"
      ],
      "execution_count": 83,
      "outputs": [
        {
          "output_type": "execute_result",
          "data": {
            "text/html": [
              "<div>\n",
              "<style scoped>\n",
              "    .dataframe tbody tr th:only-of-type {\n",
              "        vertical-align: middle;\n",
              "    }\n",
              "\n",
              "    .dataframe tbody tr th {\n",
              "        vertical-align: top;\n",
              "    }\n",
              "\n",
              "    .dataframe thead th {\n",
              "        text-align: right;\n",
              "    }\n",
              "</style>\n",
              "<table border=\"1\" class=\"dataframe\">\n",
              "  <thead>\n",
              "    <tr style=\"text-align: right;\">\n",
              "      <th></th>\n",
              "      <th>class</th>\n",
              "    </tr>\n",
              "  </thead>\n",
              "  <tbody>\n",
              "    <tr>\n",
              "      <th>2033</th>\n",
              "      <td>False</td>\n",
              "    </tr>\n",
              "    <tr>\n",
              "      <th>643</th>\n",
              "      <td>False</td>\n",
              "    </tr>\n",
              "    <tr>\n",
              "      <th>1708</th>\n",
              "      <td>False</td>\n",
              "    </tr>\n",
              "    <tr>\n",
              "      <th>531</th>\n",
              "      <td>False</td>\n",
              "    </tr>\n",
              "    <tr>\n",
              "      <th>697</th>\n",
              "      <td>False</td>\n",
              "    </tr>\n",
              "    <tr>\n",
              "      <th>...</th>\n",
              "      <td>...</td>\n",
              "    </tr>\n",
              "    <tr>\n",
              "      <th>960</th>\n",
              "      <td>False</td>\n",
              "    </tr>\n",
              "    <tr>\n",
              "      <th>905</th>\n",
              "      <td>False</td>\n",
              "    </tr>\n",
              "    <tr>\n",
              "      <th>1096</th>\n",
              "      <td>False</td>\n",
              "    </tr>\n",
              "    <tr>\n",
              "      <th>235</th>\n",
              "      <td>True</td>\n",
              "    </tr>\n",
              "    <tr>\n",
              "      <th>1061</th>\n",
              "      <td>False</td>\n",
              "    </tr>\n",
              "  </tbody>\n",
              "</table>\n",
              "<p>1476 rows × 1 columns</p>\n",
              "</div>"
            ],
            "text/plain": [
              "      class\n",
              "2033  False\n",
              "643   False\n",
              "1708  False\n",
              "531   False\n",
              "697   False\n",
              "...     ...\n",
              "960   False\n",
              "905   False\n",
              "1096  False\n",
              "235    True\n",
              "1061  False\n",
              "\n",
              "[1476 rows x 1 columns]"
            ]
          },
          "metadata": {
            "tags": []
          },
          "execution_count": 83
        }
      ]
    },
    {
      "cell_type": "code",
      "metadata": {
        "colab": {
          "base_uri": "https://localhost:8080/"
        },
        "id": "Ly4d01qWOKM-",
        "outputId": "e0d12665-43df-48c8-9c43-6d262477ad4a"
      },
      "source": [
        "X_test1"
      ],
      "execution_count": 84,
      "outputs": [
        {
          "output_type": "execute_result",
          "data": {
            "text/plain": [
              "array([[-0.29821187, -0.44178155, -0.5395649 , ..., -0.53944936,\n",
              "        -0.53568284, -0.45410204],\n",
              "       [ 7.72091053,  4.45666421,  4.14499159, ...,  3.99474693,\n",
              "         4.35830539,  5.22497548],\n",
              "       [-0.29821187, -0.44178155, -0.50477859, ..., -0.48347163,\n",
              "        -0.53568284, -0.45410204],\n",
              "       ...,\n",
              "       [-0.29821187, -0.44178155, -0.56275577, ..., -0.55810861,\n",
              "        -0.56608029, -0.45410204],\n",
              "       [-0.29821187, -0.44178155, -0.52796946, ..., -0.52079012,\n",
              "        -0.53568284, -0.45410204],\n",
              "       [-0.29821187, -0.44178155, -0.46999228, ..., -0.46481239,\n",
              "        -0.47488796, -0.45410204]])"
            ]
          },
          "metadata": {
            "tags": []
          },
          "execution_count": 84
        }
      ]
    },
    {
      "cell_type": "code",
      "metadata": {
        "id": "Do2CAb1ApTRi",
        "colab": {
          "base_uri": "https://localhost:8080/"
        },
        "outputId": "134d8462-39ca-4f17-8c9c-5e554b7a3a6b"
      },
      "source": [
        "X_train1"
      ],
      "execution_count": 85,
      "outputs": [
        {
          "output_type": "execute_result",
          "data": {
            "text/plain": [
              "array([[-0.29821187,  0.13450618, -0.08734286, ..., -0.05430902,\n",
              "        -0.14051609,  0.03973079],\n",
              "       [-0.29821187,  0.13450618,  0.16775675, ...,  0.15094267,\n",
              "         0.19385578,  0.03973079],\n",
              "       [-0.29821187, -0.44178155, -0.37722879, ..., -0.39017541,\n",
              "        -0.35329819, -0.20718562],\n",
              "       ...,\n",
              "       [-0.29821187,  0.13450618, -0.57435121, ..., -0.57676785,\n",
              "        -0.56608029,  0.03973079],\n",
              "       [-0.29821187,  0.13450618, -0.21489267, ..., -0.22224222,\n",
              "        -0.20131098,  0.03973079],\n",
              "       [ 4.15685613,  2.15151326,  0.82869665, ...,  0.80401621,\n",
              "         0.86259951,  2.0150621 ]])"
            ]
          },
          "metadata": {
            "tags": []
          },
          "execution_count": 85
        }
      ]
    },
    {
      "cell_type": "markdown",
      "metadata": {
        "id": "YMjorUgIMZ4U"
      },
      "source": [
        "#build LSTM Model"
      ]
    },
    {
      "cell_type": "code",
      "metadata": {
        "id": "khRnSKsTJPlQ"
      },
      "source": [
        "def build_model(layers):\n",
        "    d = 0.3\n",
        "    model = Sequential()\n",
        "\n",
        "    model.add(LSTM(256), return_sequences=True)\n",
        "    model.add(Dropout(d))\n",
        "\n",
        "    model.add(LSTM(256), return_sequences=False)\n",
        "    model.add(Dropout(d))\n",
        "\n",
        "    model.add(Dense(32,kernel_initializer=\"uniform\",activation='relu'))\n",
        "    model.add(Dense(1,kernel_initializer=\"uniform\",activation='linear'))\n",
        "\n",
        "    # adam = keras.optimizers.Adam(decay=0.2)\n",
        "\n",
        "    history=model.compile(loss='mse',optimizer='adam', metrics=['accuracy'])\n",
        "    \n",
        "    return model"
      ],
      "execution_count": 86,
      "outputs": []
    },
    {
      "cell_type": "code",
      "metadata": {
        "colab": {
          "base_uri": "https://localhost:8080/",
          "height": 395
        },
        "id": "kGfYhNuONIcB",
        "outputId": "0f8074a3-2e8d-4558-cac9-c798978bba65"
      },
      "source": [
        "model = build_model(X_train1.shape)"
      ],
      "execution_count": 87,
      "outputs": [
        {
          "output_type": "error",
          "ename": "TypeError",
          "evalue": "ignored",
          "traceback": [
            "\u001b[0;31m---------------------------------------------------------------------------\u001b[0m",
            "\u001b[0;31mTypeError\u001b[0m                                 Traceback (most recent call last)",
            "\u001b[0;32m<ipython-input-87-eeecfcab801f>\u001b[0m in \u001b[0;36m<module>\u001b[0;34m()\u001b[0m\n\u001b[0;32m----> 1\u001b[0;31m \u001b[0mmodel\u001b[0m \u001b[0;34m=\u001b[0m \u001b[0mbuild_model\u001b[0m\u001b[0;34m(\u001b[0m\u001b[0mX_train1\u001b[0m\u001b[0;34m.\u001b[0m\u001b[0mshape\u001b[0m\u001b[0;34m)\u001b[0m\u001b[0;34m\u001b[0m\u001b[0;34m\u001b[0m\u001b[0m\n\u001b[0m",
            "\u001b[0;32m<ipython-input-86-4ca04a56d11a>\u001b[0m in \u001b[0;36mbuild_model\u001b[0;34m(layers)\u001b[0m\n\u001b[1;32m      3\u001b[0m     \u001b[0mmodel\u001b[0m \u001b[0;34m=\u001b[0m \u001b[0mSequential\u001b[0m\u001b[0;34m(\u001b[0m\u001b[0;34m)\u001b[0m\u001b[0;34m\u001b[0m\u001b[0;34m\u001b[0m\u001b[0m\n\u001b[1;32m      4\u001b[0m \u001b[0;34m\u001b[0m\u001b[0m\n\u001b[0;32m----> 5\u001b[0;31m     \u001b[0mmodel\u001b[0m\u001b[0;34m.\u001b[0m\u001b[0madd\u001b[0m\u001b[0;34m(\u001b[0m\u001b[0mLSTM\u001b[0m\u001b[0;34m(\u001b[0m\u001b[0;36m256\u001b[0m\u001b[0;34m)\u001b[0m\u001b[0;34m,\u001b[0m \u001b[0mreturn_sequences\u001b[0m\u001b[0;34m=\u001b[0m\u001b[0;32mTrue\u001b[0m\u001b[0;34m)\u001b[0m\u001b[0;34m\u001b[0m\u001b[0;34m\u001b[0m\u001b[0m\n\u001b[0m\u001b[1;32m      6\u001b[0m     \u001b[0mmodel\u001b[0m\u001b[0;34m.\u001b[0m\u001b[0madd\u001b[0m\u001b[0;34m(\u001b[0m\u001b[0mDropout\u001b[0m\u001b[0;34m(\u001b[0m\u001b[0md\u001b[0m\u001b[0;34m)\u001b[0m\u001b[0;34m)\u001b[0m\u001b[0;34m\u001b[0m\u001b[0;34m\u001b[0m\u001b[0m\n\u001b[1;32m      7\u001b[0m \u001b[0;34m\u001b[0m\u001b[0m\n",
            "\u001b[0;32m/usr/local/lib/python3.7/dist-packages/tensorflow/python/training/tracking/base.py\u001b[0m in \u001b[0;36m_method_wrapper\u001b[0;34m(self, *args, **kwargs)\u001b[0m\n\u001b[1;32m    520\u001b[0m     \u001b[0mself\u001b[0m\u001b[0;34m.\u001b[0m\u001b[0m_self_setattr_tracking\u001b[0m \u001b[0;34m=\u001b[0m \u001b[0;32mFalse\u001b[0m  \u001b[0;31m# pylint: disable=protected-access\u001b[0m\u001b[0;34m\u001b[0m\u001b[0;34m\u001b[0m\u001b[0m\n\u001b[1;32m    521\u001b[0m     \u001b[0;32mtry\u001b[0m\u001b[0;34m:\u001b[0m\u001b[0;34m\u001b[0m\u001b[0;34m\u001b[0m\u001b[0m\n\u001b[0;32m--> 522\u001b[0;31m       \u001b[0mresult\u001b[0m \u001b[0;34m=\u001b[0m \u001b[0mmethod\u001b[0m\u001b[0;34m(\u001b[0m\u001b[0mself\u001b[0m\u001b[0;34m,\u001b[0m \u001b[0;34m*\u001b[0m\u001b[0margs\u001b[0m\u001b[0;34m,\u001b[0m \u001b[0;34m**\u001b[0m\u001b[0mkwargs\u001b[0m\u001b[0;34m)\u001b[0m\u001b[0;34m\u001b[0m\u001b[0;34m\u001b[0m\u001b[0m\n\u001b[0m\u001b[1;32m    523\u001b[0m     \u001b[0;32mfinally\u001b[0m\u001b[0;34m:\u001b[0m\u001b[0;34m\u001b[0m\u001b[0;34m\u001b[0m\u001b[0m\n\u001b[1;32m    524\u001b[0m       \u001b[0mself\u001b[0m\u001b[0;34m.\u001b[0m\u001b[0m_self_setattr_tracking\u001b[0m \u001b[0;34m=\u001b[0m \u001b[0mprevious_value\u001b[0m  \u001b[0;31m# pylint: disable=protected-access\u001b[0m\u001b[0;34m\u001b[0m\u001b[0;34m\u001b[0m\u001b[0m\n",
            "\u001b[0;31mTypeError\u001b[0m: add() got an unexpected keyword argument 'return_sequences'"
          ]
        }
      ]
    },
    {
      "cell_type": "code",
      "metadata": {
        "id": "fmsKhsBSLb_C"
      },
      "source": [
        "model.summary()"
      ],
      "execution_count": null,
      "outputs": []
    },
    {
      "cell_type": "code",
      "metadata": {
        "id": "DE6Pr8iMgxc0"
      },
      "source": [
        "print('Train...')\n",
        "model.fit(X_train1, y_train, epochs=50)\n",
        "pred = model.predict(X_test1, verbose=0)\n",
        "predict_classes = model.predict_classes(X_test1, verbose=0)\n",
        "yhat_probs = pred[:, 0]\n",
        "yhat_classes = predict_classes[:, 0]"
      ],
      "execution_count": null,
      "outputs": []
    },
    {
      "cell_type": "code",
      "metadata": {
        "id": "MKcCRcc8XRO9"
      },
      "source": [
        "# accuracy: (tp + tn) / (p + n)\n",
        "accuracy = accuracy_score(y_test, yhat_classes)\n",
        "print('Accuracy: %f' % accuracy)  \n",
        "# precision tp / (tp + fp)\n",
        "precision = precision_score(y_test, yhat_classes)\n",
        "print('Precision: %f' % precision)\n",
        "# recall: tp / (tp + fn)\n",
        "recall = recall_score(y_test, yhat_classes)\n",
        "print('Recall: %f' % recall)\n",
        "# f1: 2 tp / (2 tp + fp + fn)\n",
        "f1 = f1_score(y_test, yhat_classes)\n",
        "print('F1 score: %f' % f1)"
      ],
      "execution_count": null,
      "outputs": []
    },
    {
      "cell_type": "code",
      "metadata": {
        "id": "0jhJi22DLq1Y"
      },
      "source": [
        "import matplotlib.pyplot as plt\n",
        "plt.plot(history.history['loss'])\n",
        "plt.plot(history.history['val_loss'])\n",
        "plt.title('Model loss')\n",
        "plt.ylabel('Loss')\n",
        "plt.xlabel('Epoch')\n",
        "plt.legend(['Train', 'Test'], loc='upper right')\n",
        "plt.show()"
      ],
      "execution_count": null,
      "outputs": []
    },
    {
      "cell_type": "code",
      "metadata": {
        "id": "Zm6P3KWJOxAc"
      },
      "source": [
        "plt.plot(history.history['accuracy'])\n",
        "plt.plot(history.history['val_accuracy'])\n",
        "plt.title('Model accuracy')\n",
        "plt.ylabel('Accuracy')\n",
        "plt.xlabel('Epoch')\n",
        "plt.legend(['Train', 'Test'], loc='lower right')\n",
        "plt.show()"
      ],
      "execution_count": null,
      "outputs": []
    },
    {
      "cell_type": "code",
      "metadata": {
        "id": "QH86uBaRRaXB"
      },
      "source": [
        ""
      ],
      "execution_count": null,
      "outputs": []
    },
    {
      "cell_type": "code",
      "metadata": {
        "id": "nEzEF1MSRaKE"
      },
      "source": [
        "from sklearn.svm import SVC\n",
        "from sklearn.metrics import accuracy_score\n",
        "svc_model = SVC()\n",
        "svc_model.fit(X_train,y_train)\n",
        "svc_pred = svc_model.predict(X_test)"
      ],
      "execution_count": null,
      "outputs": []
    },
    {
      "cell_type": "code",
      "metadata": {
        "id": "5Xv9H6kRRvnp"
      },
      "source": [
        "# accuracy: (tp + tn) / (p + n)\n",
        "accuracy = accuracy_score(svc_pred, y_test)\n",
        "print('Accuracy: %f' % accuracy)\n",
        "# precision tp / (tp + fp)\n",
        "precision = precision_score(svc_pred, y_test)\n",
        "print('Precision: %f' % precision)\n",
        "# recall: tp / (tp + fn)\n",
        "recall = recall_score(svc_pred, y_test)\n",
        "print('Recall: %f' % recall)\n",
        "# f1: 2 tp / (2 tp + fp + fn)\n",
        "f1 = f1_score(svc_pred, y_test)\n",
        "print('F1 score: %f' % f1)"
      ],
      "execution_count": null,
      "outputs": []
    }
  ]
}